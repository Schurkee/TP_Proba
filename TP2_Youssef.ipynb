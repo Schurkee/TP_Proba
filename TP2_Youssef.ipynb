{
 "cells": [
  {
   "cell_type": "markdown",
   "metadata": {},
   "source": [
    "# Simulation du jeux de LIDO simplifié"
   ]
  },
  {
   "cell_type": "markdown",
   "metadata": {},
   "source": [
    "## Principe\n",
    "On considére un jeux de Lido simple:\n",
    "on dispose d'un un seul pion.\n",
    "\n",
    "- Etape 0 :\n",
    "Le pion doit sort de sa prison lorsqu'on obtient un 6.\n",
    "\n",
    "- Etape 1 :\n",
    "Le pion doit atteindre exactement une position cible situé à N pas de distance de sa prison \n",
    "\n",
    "Soit $X_n$ la variable aléatoire qui represente le nombre de coup nécéssaire pour atteindre la positions cible.\n",
    "\n",
    "**Objectif 1** : Simuler le jeux \n",
    "\n",
    "**Objectif 2** : Calculer une estimation de l'éspérance mathématique de $X_n$ en utilisant `python`\n",
    "\n",
    "**Objéctif 3** : Observer la variation de $\\mathbb{E}(X_n)$ en fonction de $n$\n",
    "\n",
    "<img src=\"LIDO.png\">\n"
   ]
  },
  {
   "cell_type": "code",
   "execution_count": 1,
   "metadata": {},
   "outputs": [],
   "source": [
    "import numpy as np"
   ]
  },
  {
   "cell_type": "markdown",
   "metadata": {},
   "source": [
    "### Simulation du lancé de dé"
   ]
  },
  {
   "cell_type": "code",
   "execution_count": 2,
   "metadata": {},
   "outputs": [],
   "source": [
    "def Roll():\n",
    "    return int(np.random.choice(range(1,7),1))"
   ]
  },
  {
   "cell_type": "code",
   "execution_count": 3,
   "metadata": {},
   "outputs": [
    {
     "data": {
      "text/plain": [
       "2"
      ]
     },
     "execution_count": 3,
     "metadata": {},
     "output_type": "execute_result"
    }
   ],
   "source": [
    "Roll()"
   ]
  },
  {
   "cell_type": "markdown",
   "metadata": {},
   "source": [
    "### Compléter le code et commenter"
   ]
  },
  {
   "cell_type": "code",
   "execution_count": 23,
   "metadata": {
    "scrolled": false
   },
   "outputs": [
    {
     "name": "stdout",
     "output_type": "stream",
     "text": [
      "temp = 2 | NA = 1\n",
      "temp = 6 | NA = 2\n",
      "A = 1\n",
      "temp = 1 | NA = 3 | A = 2\n",
      "temp = 4 | NA = 4 | A = 6\n",
      "temp = 4 | NA = 5 | A = 10\n"
     ]
    }
   ],
   "source": [
    "A = 0 #pos pion\n",
    "NA = 0 #nbr de coup\n",
    "S = 10 #la longeur du chemin n\n",
    "temp = Roll()\n",
    "NA += 1\n",
    "print('temp = {} | NA = {}' .format(temp,NA))\n",
    "while temp < 6 :\n",
    "    temp = Roll()\n",
    "    NA += 1\n",
    "    print('temp = {} | NA = {}' .format(temp,NA))\n",
    "A = 1\n",
    "print('A = {}' .format(A))\n",
    "while A < S :\n",
    "    temp = Roll()\n",
    "    NA += 1\n",
    "    if A + temp == S :\n",
    "        A = S\n",
    "        print('temp = {} | NA = {} | A = {}' .format(temp,NA,A))\n",
    "        break\n",
    "    elif A + temp < S :\n",
    "        A = A + temp\n",
    "        print('temp = {} | NA = {} | A = {}' .format(temp,NA,A))\n",
    "    else :\n",
    "        print('temp = {} | NA = {} | A = {}' .format(temp,NA,A))        "
   ]
  },
  {
   "cell_type": "markdown",
   "metadata": {},
   "source": [
    "### Simulation\n",
    "Ecrire une foction `sim` qui simule le jeux et qui prend comme variable le nombre de pas $n$ nécessazire pour atteindre la cible"
   ]
  },
  {
   "cell_type": "code",
   "execution_count": 28,
   "metadata": {},
   "outputs": [],
   "source": [
    "def sim(S):\n",
    "    A = 0 #pos pion\n",
    "    NA = 0 #nbr de coup\n",
    "    temp = Roll()\n",
    "    NA += 1\n",
    "    while temp < 6 :\n",
    "        temp = Roll()\n",
    "        NA += 1\n",
    "    A = 1\n",
    "    while A < S :\n",
    "        temp = Roll()\n",
    "        NA += 1\n",
    "        if A + temp == S :\n",
    "            A = S\n",
    "            break\n",
    "        elif A + temp < S :\n",
    "            A = A + temp\n",
    "        else :\n",
    "            continue\n",
    "    return NA     "
   ]
  },
  {
   "cell_type": "code",
   "execution_count": 33,
   "metadata": {},
   "outputs": [
    {
     "data": {
      "text/plain": [
       "[13, 13, 12, 14, 11]"
      ]
     },
     "execution_count": 33,
     "metadata": {},
     "output_type": "execute_result"
    }
   ],
   "source": [
    "[sim(30) for i in range(5)]"
   ]
  },
  {
   "cell_type": "markdown",
   "metadata": {},
   "source": [
    "# Conclusion\n",
    "Dans la fonction sim(S) simule ces étapes :\n",
    "- Etape 1 :\n",
    "la position du pion (A) et le nombre de coups (NA) s'initialisent à 0.\n",
    "    \n",
    "- Etape 2 :\n",
    "Aprés chaque appel de la fonction Roll(), NA s'incrimente et A reste égale à 0 jusqu'à avoir Roll() = 6 où A devient égale à 1.\n",
    "    \n",
    "- Etape 3 :\n",
    "Lorsque A >= 1 si A + Roll() = la langeur du chemin (S) : le jeu s'arrete , si A + Roll() < S : A reçoit la valeur de A + Roll() sinon rien ne se passe et le jeu continue (Notant que a chaque appel de la fonction Roll() NA s'incrimente).\n",
    "    \n",
    "- Etape 4 :\n",
    "la fonction sim(S) renvoit la valeur de NA.\n",
    "    \n",
    "Pour Conclure la fonction sim nous permet de determiner NA qui est le nombre de coup fait pour terminer le jeu."
   ]
  },
  {
   "cell_type": "code",
   "execution_count": 35,
   "metadata": {},
   "outputs": [
    {
     "name": "stdout",
     "output_type": "stream",
     "text": [
      "estimation de la moyenne de X_30 = 19.04126\n"
     ]
    }
   ],
   "source": [
    "#simulation de n fois\n",
    "L = [sim(30) for i in range(50000)]\n",
    "Moy = sum(L) / 50000\n",
    "print('estimation de la moyenne de X_30 = {}'.format(Moy))"
   ]
  },
  {
   "cell_type": "markdown",
   "metadata": {},
   "source": [
    "# Conclusion\n",
    "Aprés la simulation de 50000 fois on peut conclure que la moyenne est toujours présque égale à 19 dans le cas où S = 30."
   ]
  },
  {
   "cell_type": "markdown",
   "metadata": {},
   "source": [
    "### Simulation de $10^5$  scénario "
   ]
  },
  {
   "cell_type": "code",
   "execution_count": 36,
   "metadata": {},
   "outputs": [],
   "source": [
    "Freq=np.fromiter((sim(20) for i in range(10**5)),dtype=int)"
   ]
  },
  {
   "cell_type": "code",
   "execution_count": 37,
   "metadata": {},
   "outputs": [],
   "source": [
    "ESP=Freq.sum()/10**5"
   ]
  },
  {
   "cell_type": "code",
   "execution_count": 38,
   "metadata": {},
   "outputs": [],
   "source": [
    "x=list(range(10,20))"
   ]
  },
  {
   "cell_type": "code",
   "execution_count": 39,
   "metadata": {},
   "outputs": [],
   "source": [
    "y=[np.fromiter((sim(u) for i in range(5*10**4)),dtype=int).sum()/50000 for u in x]"
   ]
  },
  {
   "cell_type": "code",
   "execution_count": 40,
   "metadata": {},
   "outputs": [],
   "source": [
    "import matplotlib.pyplot as plt"
   ]
  },
  {
   "cell_type": "code",
   "execution_count": 41,
   "metadata": {
    "scrolled": true
   },
   "outputs": [
    {
     "data": {
      "text/plain": [
       "[<matplotlib.lines.Line2D at 0x1df0c1c99d0>]"
      ]
     },
     "execution_count": 41,
     "metadata": {},
     "output_type": "execute_result"
    },
    {
     "data": {
      "image/png": "[encoded data removed]",
      "text/plain": [
       "<Figure size 432x288 with 1 Axes>"
      ]
     },
     "metadata": {
      "needs_background": "light"
     },
     "output_type": "display_data"
    }
   ],
   "source": [
    "plt.plot(x,y)"
   ]
  },
  {
   "cell_type": "code",
   "execution_count": 42,
   "metadata": {},
   "outputs": [],
   "source": [
    "from scipy import stats\n",
    "import numpy as np\n",
    "slope, intercept, r_value, p_value, std_err = stats.linregress(x,y)"
   ]
  },
  {
   "cell_type": "code",
   "execution_count": 43,
   "metadata": {},
   "outputs": [
    {
     "data": {
      "text/plain": [
       "0.2841747878787879"
      ]
     },
     "execution_count": 43,
     "metadata": {},
     "output_type": "execute_result"
    }
   ],
   "source": [
    "slope"
   ]
  },
  {
   "cell_type": "code",
   "execution_count": 44,
   "metadata": {},
   "outputs": [
    {
     "data": {
      "text/plain": [
       "10.494609575757575"
      ]
     },
     "execution_count": 44,
     "metadata": {},
     "output_type": "execute_result"
    }
   ],
   "source": [
    "intercept\n"
   ]
  },
  {
   "cell_type": "markdown",
   "metadata": {},
   "source": [
    "# Conclusion\n",
    "Aprés la simulation de $10^5$ scénarios et aprés l'analyse du courbe des valeurs de ces scénarios on peut conclure que l'éspérance mathématique d'un jeu de ludo est une fonction linéaire de forme :\n",
    "                                        $$E(X_n) ~= 0.284 * n + 10.49$$"
   ]
  },
  {
   "cell_type": "code",
   "execution_count": null,
   "metadata": {},
   "outputs": [],
   "source": []
  }
 ],
 "metadata": {
  "kernelspec": {
   "display_name": "Python 3",
   "language": "python",
   "name": "python3"
  },
  "language_info": {
   "codemirror_mode": {
    "name": "ipython",
    "version": 3
   },
   "file_extension": ".py",
   "mimetype": "text/x-python",
   "name": "python",
   "nbconvert_exporter": "python",
   "pygments_lexer": "ipython3",
   "version": "3.8.8"
  }
 },
 "nbformat": 4,
 "nbformat_minor": 4
}
